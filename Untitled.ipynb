{
 "cells": [
  {
   "cell_type": "code",
   "execution_count": null,
   "id": "c1a1441d-736e-41af-9919-9fd751b6139c",
   "metadata": {},
   "outputs": [],
   "source": [
    "JIRA :\n",
    "epic : Project Plan : 3 months\n",
    "sprint1 :15 days or 3 weeks\n",
    "  - Story 1>  Pipeline\n",
    "  - story 2> EDA\n",
    "          1. Outliers\n",
    "          2. Data Distribution"
   ]
  },
  {
   "cell_type": "markdown",
   "id": "c6ac8a2f-e2fb-471a-a149-1d7f6a5f9109",
   "metadata": {},
   "source": [
    "#### Git"
   ]
  },
  {
   "cell_type": "code",
   "execution_count": null,
   "id": "0f638c88-6a23-43ec-843c-599ac6b3dc7f",
   "metadata": {},
   "outputs": [],
   "source": [
    "1. github\n",
    "2. GitLab\n",
    "3. BitBucket"
   ]
  },
  {
   "cell_type": "markdown",
   "id": "12ecffea-5be1-4c4a-b4e8-32a4d8cc0cd9",
   "metadata": {},
   "source": [
    "#### 1. clone repo"
   ]
  },
  {
   "cell_type": "code",
   "execution_count": null,
   "id": "ea155500-8d73-40b3-8551-2601f5a2461a",
   "metadata": {},
   "outputs": [],
   "source": [
    "git clone url"
   ]
  },
  {
   "cell_type": "markdown",
   "id": "b45d448f-925a-41be-81ca-a571a86d4caa",
   "metadata": {},
   "source": [
    "#### 2. Check status of project"
   ]
  },
  {
   "cell_type": "code",
   "execution_count": null,
   "id": "eccc34ec-a885-4e2a-8d80-66321aeb1cc1",
   "metadata": {},
   "outputs": [],
   "source": [
    "git status"
   ]
  },
  {
   "cell_type": "markdown",
   "id": "10feb582-c5ea-4f98-b890-4648b3948239",
   "metadata": {},
   "source": [
    "##### 3. Add your files"
   ]
  },
  {
   "cell_type": "code",
   "execution_count": null,
   "id": "f904f980-9093-4795-982a-eb0863cbb033",
   "metadata": {},
   "outputs": [],
   "source": [
    "1) single file addition\n",
    "git add file_name\n",
    "example\n",
    "git add readme.md\n",
    "\n",
    "2) multiple file addition\n",
    "git add --all\n",
    "git add ."
   ]
  },
  {
   "cell_type": "markdown",
   "id": "b1e776f5-57fb-4730-b2c1-50cd4db45906",
   "metadata": {},
   "source": [
    "#### 4. commit your message"
   ]
  },
  {
   "cell_type": "code",
   "execution_count": null,
   "id": "9f764019-3d1e-44db-9cef-2ced78217805",
   "metadata": {},
   "outputs": [],
   "source": [
    "git commit -m \"Added Project instruction\""
   ]
  },
  {
   "cell_type": "markdown",
   "id": "dfbff01a-ee8a-4356-be54-2e1ffad1b317",
   "metadata": {},
   "source": [
    "#### 5. push"
   ]
  },
  {
   "cell_type": "code",
   "execution_count": null,
   "id": "9ea9452b-f658-4063-b481-099886ffb2c6",
   "metadata": {},
   "outputs": [],
   "source": [
    "git push\n",
    "\n",
    "git push origin branch_main\n",
    "example\n",
    "git push origin edamissingvalues"
   ]
  },
  {
   "cell_type": "markdown",
   "id": "1db45d6a-9811-41c4-9b0e-35138454a312",
   "metadata": {},
   "source": [
    "#### 6. Check branches"
   ]
  },
  {
   "cell_type": "code",
   "execution_count": null,
   "id": "c17805db-3591-4abf-8157-88a2bc6ec75e",
   "metadata": {},
   "outputs": [],
   "source": [
    "git branch  # list of branches"
   ]
  },
  {
   "cell_type": "markdown",
   "id": "9c77bb92-1f0f-4fa9-a020-9e6ee8c66bdb",
   "metadata": {},
   "source": [
    "#### 7. Create new branch"
   ]
  },
  {
   "cell_type": "code",
   "execution_count": null,
   "id": "4953c422-1b4d-4adb-bfbe-152ba2aa5cf3",
   "metadata": {},
   "outputs": [],
   "source": [
    "git checkout -b branch_name\n",
    "example\n",
    "git checkout -b edaoutliers\n",
    "git checkout -b edamissingvalues"
   ]
  },
  {
   "cell_type": "markdown",
   "id": "13bbf4de-2f2c-4700-92c3-b8368dcb28cd",
   "metadata": {},
   "source": [
    "#### 8. change branch name"
   ]
  },
  {
   "cell_type": "code",
   "execution_count": null,
   "id": "3688201a-ad08-4a6e-bb1f-51d555c8ef3f",
   "metadata": {},
   "outputs": [],
   "source": [
    "git checkiut branch_name"
   ]
  },
  {
   "cell_type": "markdown",
   "id": "2fd328d3-37e0-424c-a17d-fee56425fddd",
   "metadata": {},
   "source": [
    "##### 9. git pull"
   ]
  },
  {
   "cell_type": "code",
   "execution_count": null,
   "id": "997d57db-a091-4d37-9bba-daab773785a9",
   "metadata": {},
   "outputs": [],
   "source": [
    "git pull\n",
    "example\n",
    "git pull origin branch_name"
   ]
  }
 ],
 "metadata": {
  "kernelspec": {
   "display_name": "Python 3 (ipykernel)",
   "language": "python",
   "name": "python3"
  },
  "language_info": {
   "codemirror_mode": {
    "name": "ipython",
    "version": 3
   },
   "file_extension": ".py",
   "mimetype": "text/x-python",
   "name": "python",
   "nbconvert_exporter": "python",
   "pygments_lexer": "ipython3",
   "version": "3.9.7"
  }
 },
 "nbformat": 4,
 "nbformat_minor": 5
}
